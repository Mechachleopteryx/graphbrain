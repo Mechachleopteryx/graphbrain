{
 "cells": [
  {
   "cell_type": "markdown",
   "metadata": {},
   "source": [
    "# Graphbrain parser\n",
    "\n",
    "This notebook is a simple demonstration of the Graphbrain parser, which transforms a sentence in natural language into an hyperedge."
   ]
  },
  {
   "cell_type": "code",
   "execution_count": 3,
   "metadata": {},
   "outputs": [
    {
     "name": "stdout",
     "output_type": "stream",
     "text": [
      "Collecting graphbrain\n",
      "  Using cached graphbrain-0.5.0.tar.gz (1.2 MB)\n",
      "  Installing build dependencies: started\n",
      "  Installing build dependencies: finished with status 'done'\n",
      "  Getting requirements to build wheel: started\n",
      "  Getting requirements to build wheel: finished with status 'error'Note: you may need to restart the kernel to use updated packages.\n"
     ]
    },
    {
     "name": "stderr",
     "output_type": "stream",
     "text": [
      "  ERROR: Command errored out with exit status 1:\n",
      "   command: 'C:\\ProgramData\\Anaconda3\\python.exe' 'C:\\ProgramData\\Anaconda3\\lib\\site-packages\\pip\\_vendor\\pep517\\_in_process.py' get_requires_for_build_wheel 'C:\\Users\\MECHAC~1\\AppData\\Local\\Temp\\tmp8kv_82_z'\n",
      "       cwd: C:\\Users\\Mechachleopteryx\\AppData\\Local\\Temp\\pip-install-x0f8530r\\graphbrain\n",
      "  Complete output (20 lines):\n",
      "  Traceback (most recent call last):\n",
      "    File \"C:\\ProgramData\\Anaconda3\\lib\\site-packages\\pip\\_vendor\\pep517\\_in_process.py\", line 280, in <module>\n",
      "      main()\n",
      "    File \"C:\\ProgramData\\Anaconda3\\lib\\site-packages\\pip\\_vendor\\pep517\\_in_process.py\", line 263, in main\n",
      "      json_out['return_val'] = hook(**hook_input['kwargs'])\n",
      "    File \"C:\\ProgramData\\Anaconda3\\lib\\site-packages\\pip\\_vendor\\pep517\\_in_process.py\", line 114, in get_requires_for_build_wheel\n",
      "      return hook(config_settings)\n",
      "    File \"C:\\Users\\Mechachleopteryx\\AppData\\Local\\Temp\\pip-build-env-zesh53o0\\overlay\\Lib\\site-packages\\setuptools\\build_meta.py\", line 154, in get_requires_for_build_wheel\n",
      "      return self._get_build_requires(\n",
      "    File \"C:\\Users\\Mechachleopteryx\\AppData\\Local\\Temp\\pip-build-env-zesh53o0\\overlay\\Lib\\site-packages\\setuptools\\build_meta.py\", line 135, in _get_build_requires\n",
      "      self.run_setup()\n",
      "    File \"C:\\Users\\Mechachleopteryx\\AppData\\Local\\Temp\\pip-build-env-zesh53o0\\overlay\\Lib\\site-packages\\setuptools\\build_meta.py\", line 258, in run_setup\n",
      "      super(_BuildMetaLegacyBackend,\n",
      "    File \"C:\\Users\\Mechachleopteryx\\AppData\\Local\\Temp\\pip-build-env-zesh53o0\\overlay\\Lib\\site-packages\\setuptools\\build_meta.py\", line 150, in run_setup\n",
      "      exec(compile(code, __file__, 'exec'), locals())\n",
      "    File \"setup.py\", line 149, in <module>\n",
      "      long_description = fh.read()\n",
      "    File \"C:\\ProgramData\\Anaconda3\\lib\\encodings\\cp1252.py\", line 23, in decode\n",
      "      return codecs.charmap_decode(input,self.errors,decoding_table)[0]\n",
      "  UnicodeDecodeError: 'charmap' codec can't decode byte 0x9d in position 955: character maps to <undefined>\n",
      "  ----------------------------------------\n",
      "ERROR: Command errored out with exit status 1: 'C:\\ProgramData\\Anaconda3\\python.exe' 'C:\\ProgramData\\Anaconda3\\lib\\site-packages\\pip\\_vendor\\pep517\\_in_process.py' get_requires_for_build_wheel 'C:\\Users\\MECHAC~1\\AppData\\Local\\Temp\\tmp8kv_82_z' Check the logs for full command output.\n"
     ]
    },
    {
     "name": "stdout",
     "output_type": "stream",
     "text": [
      "\n"
     ]
    }
   ],
   "source": [
    "pip install graphbrain"
   ]
  },
  {
   "cell_type": "code",
   "execution_count": 4,
   "metadata": {},
   "outputs": [
    {
     "name": "stdout",
     "output_type": "stream",
     "text": [
      "Requirement already satisfied: nltk in c:\\programdata\\anaconda3\\lib\\site-packages (3.5)\n",
      "Requirement already satisfied: tqdm in c:\\programdata\\anaconda3\\lib\\site-packages (from nltk) (4.47.0)\n",
      "Requirement already satisfied: joblib in c:\\programdata\\anaconda3\\lib\\site-packages (from nltk) (0.16.0)\n",
      "Requirement already satisfied: click in c:\\programdata\\anaconda3\\lib\\site-packages (from nltk) (7.1.2)\n",
      "Requirement already satisfied: regex in c:\\programdata\\anaconda3\\lib\\site-packages (from nltk) (2020.6.8)\n",
      "Note: you may need to restart the kernel to use updated packages.\n"
     ]
    }
   ],
   "source": [
    "pip install nltk"
   ]
  },
  {
   "cell_type": "markdown",
   "metadata": {},
   "source": [
    "import nltk"
   ]
  },
  {
   "cell_type": "code",
   "execution_count": 1,
   "metadata": {},
   "outputs": [],
   "source": [
    "import nltk"
   ]
  },
  {
   "cell_type": "code",
   "execution_count": 5,
   "metadata": {},
   "outputs": [],
   "source": [
    "text01 = \"Computers don't speak English. So, we've to learn C, C++, ,C#, Java, Python and the like! Yay!\""
   ]
  },
  {
   "cell_type": "code",
   "execution_count": null,
   "metadata": {},
   "outputs": [],
   "source": []
  },
  {
   "cell_type": "code",
   "execution_count": 6,
   "metadata": {},
   "outputs": [],
   "source": [
    "from nltk.tokenize import sent_tokenize\n"
   ]
  },
  {
   "cell_type": "code",
   "execution_count": 8,
   "metadata": {},
   "outputs": [],
   "source": [
    "sentences = sent_tokenize(text01)"
   ]
  },
  {
   "cell_type": "code",
   "execution_count": 9,
   "metadata": {},
   "outputs": [
    {
     "name": "stdout",
     "output_type": "stream",
     "text": [
      "3 sentences: [\"Computers don't speak English.\", \"So, we've to learn C, C++, ,C#, Java, Python and the like!\", 'Yay!']\n"
     ]
    }
   ],
   "source": [
    "print(len(sentences), 'sentences:', sentences)\n"
   ]
  },
  {
   "cell_type": "code",
   "execution_count": null,
   "metadata": {},
   "outputs": [],
   "source": []
  },
  {
   "cell_type": "code",
   "execution_count": 11,
   "metadata": {},
   "outputs": [],
   "source": [
    "text02 = \"The Turing test, aka the Imitation Game, developed by Alan Turing in the 1950s, is supposed to be a test of machine intelligence.\"\n"
   ]
  },
  {
   "cell_type": "code",
   "execution_count": 12,
   "metadata": {},
   "outputs": [],
   "source": [
    "sentences = sent_tokenize(text02)"
   ]
  },
  {
   "cell_type": "code",
   "execution_count": 13,
   "metadata": {},
   "outputs": [
    {
     "name": "stdout",
     "output_type": "stream",
     "text": [
      "1 sentences: ['The Turing test, aka the Imitation Game, developed by Alan Turing in the 1950s, is supposed to be a test of machine intelligence.']\n"
     ]
    }
   ],
   "source": [
    "print(len(sentences), 'sentences:', sentences)"
   ]
  },
  {
   "cell_type": "code",
   "execution_count": null,
   "metadata": {},
   "outputs": [],
   "source": []
  },
  {
   "cell_type": "code",
   "execution_count": 14,
   "metadata": {},
   "outputs": [],
   "source": [
    "from nltk.tokenize import word_tokenize\n"
   ]
  },
  {
   "cell_type": "code",
   "execution_count": 16,
   "metadata": {},
   "outputs": [],
   "source": [
    "words = word_tokenize(text02)"
   ]
  },
  {
   "cell_type": "code",
   "execution_count": 17,
   "metadata": {},
   "outputs": [
    {
     "name": "stdout",
     "output_type": "stream",
     "text": [
      "27 words: ['The', 'Turing', 'test', ',', 'aka', 'the', 'Imitation', 'Game', ',', 'developed', 'by', 'Alan', 'Turing', 'in', 'the', '1950s', ',', 'is', 'supposed', 'to', 'be', 'a', 'test', 'of', 'machine', 'intelligence', '.']\n"
     ]
    }
   ],
   "source": [
    "print(len(words), 'words:', words)"
   ]
  },
  {
   "cell_type": "code",
   "execution_count": 18,
   "metadata": {},
   "outputs": [],
   "source": [
    "pos_tagged_text = nltk.pos_tag(words)"
   ]
  },
  {
   "cell_type": "code",
   "execution_count": 19,
   "metadata": {},
   "outputs": [
    {
     "name": "stdout",
     "output_type": "stream",
     "text": [
      "[('The', 'DT'), ('Turing', 'NNP'), ('test', 'NN'), (',', ','), ('aka', 'VBP'), ('the', 'DT'), ('Imitation', 'NNP'), ('Game', 'NNP'), (',', ','), ('developed', 'VBN'), ('by', 'IN'), ('Alan', 'NNP'), ('Turing', 'NNP'), ('in', 'IN'), ('the', 'DT'), ('1950s', 'CD'), (',', ','), ('is', 'VBZ'), ('supposed', 'VBN'), ('to', 'TO'), ('be', 'VB'), ('a', 'DT'), ('test', 'NN'), ('of', 'IN'), ('machine', 'NN'), ('intelligence', 'NN'), ('.', '.')]\n"
     ]
    }
   ],
   "source": [
    "print(pos_tagged_text)"
   ]
  },
  {
   "cell_type": "code",
   "execution_count": 20,
   "metadata": {},
   "outputs": [],
   "source": [
    "grammar1 = nltk.data.load('file:What is open source.txt')"
   ]
  },
  {
   "cell_type": "code",
   "execution_count": 22,
   "metadata": {},
   "outputs": [],
   "source": [
    "words2 = word_tokenize(grammar1)"
   ]
  },
  {
   "cell_type": "code",
   "execution_count": 23,
   "metadata": {},
   "outputs": [],
   "source": [
    "pos_tagged_text_open_source = nltk.pos_tag(words2)"
   ]
  },
  {
   "cell_type": "code",
   "execution_count": 24,
   "metadata": {},
   "outputs": [
    {
     "name": "stdout",
     "output_type": "stream",
     "text": [
      "[('Open', 'NNP'), ('source', 'NN'), ('is', 'VBZ'), ('source', 'NN'), ('code', 'NN'), ('that', 'WDT'), ('is', 'VBZ'), ('made', 'VBN'), ('freely', 'RB'), ('available', 'JJ'), ('for', 'IN'), ('possible', 'JJ'), ('modification', 'NN'), ('and', 'CC'), ('redistribution', 'NN'), ('.', '.'), ('Products', 'NNS'), ('include', 'VBP'), ('permission', 'NN'), ('to', 'TO'), ('use', 'VB'), ('the', 'DT'), ('source', 'NN'), ('code', 'NN'), (',', ','), ('[', 'VBZ'), ('1', 'CD'), (']', 'NN'), ('design', 'NN'), ('documents', 'NNS'), (',', ','), ('[', 'VBP'), ('2', 'CD'), (']', 'NN'), ('or', 'CC'), ('content', 'NN'), ('of', 'IN'), ('the', 'DT'), ('product', 'NN'), ('.', '.'), ('The', 'DT'), ('open-source', 'JJ'), ('model', 'NN'), ('is', 'VBZ'), ('a', 'DT'), ('decentralized', 'JJ'), ('software', 'NN'), ('development', 'NN'), ('model', 'NN'), ('that', 'WDT'), ('encourages', 'VBZ'), ('open', 'JJ'), ('collaboration', 'NN'), ('.', '.'), ('[', 'CC'), ('3', 'CD'), (']', 'JJ'), ('[', '$'), ('4', 'CD'), (']', 'CC'), ('A', 'NNP'), ('main', 'JJ'), ('principle', 'NN'), ('of', 'IN'), ('open-source', 'JJ'), ('software', 'NN'), ('development', 'NN'), ('is', 'VBZ'), ('peer', 'JJ'), ('production', 'NN'), (',', ','), ('with', 'IN'), ('products', 'NNS'), ('such', 'JJ'), ('as', 'IN'), ('source', 'NN'), ('code', 'NN'), (',', ','), ('blueprints', 'NNS'), (',', ','), ('and', 'CC'), ('documentation', 'NN'), ('freely', 'RB'), ('available', 'JJ'), ('to', 'TO'), ('the', 'DT'), ('public', 'NN'), ('.', '.'), ('The', 'DT'), ('open-source', 'JJ'), ('movement', 'NN'), ('in', 'IN'), ('software', 'NN'), ('began', 'VBD'), ('as', 'IN'), ('a', 'DT'), ('response', 'NN'), ('to', 'TO'), ('the', 'DT'), ('limitations', 'NNS'), ('of', 'IN'), ('proprietary', 'JJ'), ('code', 'NN'), ('.', '.'), ('The', 'DT'), ('model', 'NN'), ('is', 'VBZ'), ('used', 'VBN'), ('for', 'IN'), ('projects', 'NNS'), ('such', 'JJ'), ('as', 'IN'), ('in', 'IN'), ('open-source', 'JJ'), ('appropriate', 'JJ'), ('technology', 'NN'), (',', ','), ('[', '$'), ('5', 'CD'), (']', 'NN'), ('and', 'CC'), ('open-source', 'JJ'), ('drug', 'NN'), ('discovery', 'NN'), ('.', '.'), ('[', 'CC'), ('6', 'CD'), (']', 'JJ'), ('[', '$'), ('7', 'CD'), (']', 'NNP'), ('Open', 'NNP'), ('source', 'NN'), ('promotes', 'VBZ'), ('universal', 'JJ'), ('access', 'NN'), ('via', 'IN'), ('an', 'DT'), ('open-source', 'NN'), ('or', 'CC'), ('free', 'JJ'), ('license', 'NN'), ('to', 'TO'), ('a', 'DT'), ('product', 'NN'), (\"'s\", 'POS'), ('design', 'NN'), ('or', 'CC'), ('blueprint', 'NN'), (',', ','), ('and', 'CC'), ('universal', 'JJ'), ('redistribution', 'NN'), ('of', 'IN'), ('that', 'DT'), ('design', 'NN'), ('or', 'CC'), ('blueprint', 'NN'), ('.', '.'), ('[', 'CC'), ('8', 'CD'), (']', 'JJ'), ('[', '$'), ('9', 'CD'), (']', 'NN'), ('Before', 'IN'), ('the', 'DT'), ('phrase', 'NN'), ('open', 'JJ'), ('source', 'NN'), ('became', 'VBD'), ('widely', 'RB'), ('adopted', 'VBN'), (',', ','), ('developers', 'NNS'), ('and', 'CC'), ('producers', 'NNS'), ('have', 'VBP'), ('used', 'VBN'), ('a', 'DT'), ('variety', 'NN'), ('of', 'IN'), ('other', 'JJ'), ('terms', 'NNS'), ('.', '.'), ('Open', 'NNP'), ('source', 'NN'), ('gained', 'VBD'), ('hold', 'NN'), ('with', 'IN'), ('the', 'DT'), ('rise', 'NN'), ('of', 'IN'), ('the', 'DT'), ('Internet', 'NNP'), ('.', '.'), ('[', 'CC'), ('10', 'CD'), (']', 'IN'), ('The', 'DT'), ('open-source', 'JJ'), ('software', 'NN'), ('movement', 'NN'), ('arose', 'VBD'), ('to', 'TO'), ('clarify', 'VB'), ('copyright', 'NN'), (',', ','), ('licensing', 'NN'), (',', ','), ('domain', 'NN'), (',', ','), ('and', 'CC'), ('consumer', 'NN'), ('issues', 'NNS'), ('.', '.'), ('Generally', 'RB'), (',', ','), ('open', 'JJ'), ('source', 'NN'), ('refers', 'NNS'), ('to', 'TO'), ('a', 'DT'), ('computer', 'NN'), ('program', 'NN'), ('in', 'IN'), ('which', 'WDT'), ('the', 'DT'), ('source', 'NN'), ('code', 'NN'), ('is', 'VBZ'), ('available', 'JJ'), ('to', 'TO'), ('the', 'DT'), ('general', 'JJ'), ('public', 'NN'), ('for', 'IN'), ('use', 'NN'), ('or', 'CC'), ('modification', 'NN'), ('from', 'IN'), ('its', 'PRP$'), ('original', 'JJ'), ('design', 'NN'), ('.', '.'), ('Code', 'NNP'), ('is', 'VBZ'), ('released', 'VBN'), ('under', 'IN'), ('the', 'DT'), ('terms', 'NNS'), ('of', 'IN'), ('a', 'DT'), ('software', 'NN'), ('license', 'NN'), ('.', '.'), ('Depending', 'VBG'), ('on', 'IN'), ('the', 'DT'), ('license', 'NN'), ('terms', 'NNS'), (',', ','), ('others', 'NNS'), ('may', 'MD'), ('then', 'RB'), ('download', 'VB'), (',', ','), ('modify', 'VB'), (',', ','), ('and', 'CC'), ('publish', 'VB'), ('their', 'PRP$'), ('version', 'NN'), ('(', '('), ('fork', 'NN'), (')', ')'), ('back', 'RB'), ('to', 'TO'), ('the', 'DT'), ('community', 'NN'), ('.', '.'), ('Many', 'JJ'), ('large', 'JJ'), ('formal', 'JJ'), ('institutions', 'NNS'), ('have', 'VBP'), ('sprung', 'VBN'), ('up', 'RP'), ('to', 'TO'), ('support', 'VB'), ('the', 'DT'), ('development', 'NN'), ('of', 'IN'), ('the', 'DT'), ('open-source', 'JJ'), ('movement', 'NN'), (',', ','), ('including', 'VBG'), ('the', 'DT'), ('Apache', 'NNP'), ('Software', 'NNP'), ('Foundation', 'NNP'), (',', ','), ('which', 'WDT'), ('supports', 'VBZ'), ('community', 'NN'), ('projects', 'NNS'), ('such', 'JJ'), ('as', 'IN'), ('the', 'DT'), ('open-source', 'JJ'), ('framework', 'NN'), ('Apache', 'NNP'), ('Hadoop', 'NNP'), ('and', 'CC'), ('the', 'DT'), ('open-source', 'JJ'), ('HTTP', 'NNP'), ('server', 'NN'), ('Apache', 'NNP'), ('HTTP', 'NNP'), ('.', '.')]\n"
     ]
    }
   ],
   "source": [
    "print(pos_tagged_text_open_source)"
   ]
  },
  {
   "cell_type": "code",
   "execution_count": null,
   "metadata": {},
   "outputs": [],
   "source": []
  },
  {
   "cell_type": "code",
   "execution_count": 25,
   "metadata": {},
   "outputs": [
    {
     "name": "stdout",
     "output_type": "stream",
     "text": [
      "$: dollar\n",
      "    $ -$ --$ A$ C$ HK$ M$ NZ$ S$ U.S.$ US$\n",
      "'': closing quotation mark\n",
      "    ' ''\n",
      "(: opening parenthesis\n",
      "    ( [ {\n",
      "): closing parenthesis\n",
      "    ) ] }\n",
      ",: comma\n",
      "    ,\n",
      "--: dash\n",
      "    --\n",
      ".: sentence terminator\n",
      "    . ! ?\n",
      ":: colon or ellipsis\n",
      "    : ; ...\n",
      "CC: conjunction, coordinating\n",
      "    & 'n and both but either et for less minus neither nor or plus so\n",
      "    therefore times v. versus vs. whether yet\n",
      "CD: numeral, cardinal\n",
      "    mid-1890 nine-thirty forty-two one-tenth ten million 0.5 one forty-\n",
      "    seven 1987 twenty '79 zero two 78-degrees eighty-four IX '60s .025\n",
      "    fifteen 271,124 dozen quintillion DM2,000 ...\n",
      "DT: determiner\n",
      "    all an another any both del each either every half la many much nary\n",
      "    neither no some such that the them these this those\n",
      "EX: existential there\n",
      "    there\n",
      "FW: foreign word\n",
      "    gemeinschaft hund ich jeux habeas Haementeria Herr K'ang-si vous\n",
      "    lutihaw alai je jour objets salutaris fille quibusdam pas trop Monte\n",
      "    terram fiche oui corporis ...\n",
      "IN: preposition or conjunction, subordinating\n",
      "    astride among uppon whether out inside pro despite on by throughout\n",
      "    below within for towards near behind atop around if like until below\n",
      "    next into if beside ...\n",
      "JJ: adjective or numeral, ordinal\n",
      "    third ill-mannered pre-war regrettable oiled calamitous first separable\n",
      "    ectoplasmic battery-powered participatory fourth still-to-be-named\n",
      "    multilingual multi-disciplinary ...\n",
      "JJR: adjective, comparative\n",
      "    bleaker braver breezier briefer brighter brisker broader bumper busier\n",
      "    calmer cheaper choosier cleaner clearer closer colder commoner costlier\n",
      "    cozier creamier crunchier cuter ...\n",
      "JJS: adjective, superlative\n",
      "    calmest cheapest choicest classiest cleanest clearest closest commonest\n",
      "    corniest costliest crassest creepiest crudest cutest darkest deadliest\n",
      "    dearest deepest densest dinkiest ...\n",
      "LS: list item marker\n",
      "    A A. B B. C C. D E F First G H I J K One SP-44001 SP-44002 SP-44005\n",
      "    SP-44007 Second Third Three Two * a b c d first five four one six three\n",
      "    two\n",
      "MD: modal auxiliary\n",
      "    can cannot could couldn't dare may might must need ought shall should\n",
      "    shouldn't will would\n",
      "NN: noun, common, singular or mass\n",
      "    common-carrier cabbage knuckle-duster Casino afghan shed thermostat\n",
      "    investment slide humour falloff slick wind hyena override subhumanity\n",
      "    machinist ...\n",
      "NNP: noun, proper, singular\n",
      "    Motown Venneboerger Czestochwa Ranzer Conchita Trumplane Christos\n",
      "    Oceanside Escobar Kreisler Sawyer Cougar Yvette Ervin ODI Darryl CTCA\n",
      "    Shannon A.K.C. Meltex Liverpool ...\n",
      "NNPS: noun, proper, plural\n",
      "    Americans Americas Amharas Amityvilles Amusements Anarcho-Syndicalists\n",
      "    Andalusians Andes Andruses Angels Animals Anthony Antilles Antiques\n",
      "    Apache Apaches Apocrypha ...\n",
      "NNS: noun, common, plural\n",
      "    undergraduates scotches bric-a-brac products bodyguards facets coasts\n",
      "    divestitures storehouses designs clubs fragrances averages\n",
      "    subjectivists apprehensions muses factory-jobs ...\n",
      "PDT: pre-determiner\n",
      "    all both half many quite such sure this\n",
      "POS: genitive marker\n",
      "    ' 's\n",
      "PRP: pronoun, personal\n",
      "    hers herself him himself hisself it itself me myself one oneself ours\n",
      "    ourselves ownself self she thee theirs them themselves they thou thy us\n",
      "PRP$: pronoun, possessive\n",
      "    her his mine my our ours their thy your\n",
      "RB: adverb\n",
      "    occasionally unabatingly maddeningly adventurously professedly\n",
      "    stirringly prominently technologically magisterially predominately\n",
      "    swiftly fiscally pitilessly ...\n",
      "RBR: adverb, comparative\n",
      "    further gloomier grander graver greater grimmer harder harsher\n",
      "    healthier heavier higher however larger later leaner lengthier less-\n",
      "    perfectly lesser lonelier longer louder lower more ...\n",
      "RBS: adverb, superlative\n",
      "    best biggest bluntest earliest farthest first furthest hardest\n",
      "    heartiest highest largest least less most nearest second tightest worst\n",
      "RP: particle\n",
      "    aboard about across along apart around aside at away back before behind\n",
      "    by crop down ever fast for forth from go high i.e. in into just later\n",
      "    low more off on open out over per pie raising start teeth that through\n",
      "    under unto up up-pp upon whole with you\n",
      "SYM: symbol\n",
      "    % & ' '' ''. ) ). * + ,. < = > @ A[fj] U.S U.S.S.R * ** ***\n",
      "TO: \"to\" as preposition or infinitive marker\n",
      "    to\n",
      "UH: interjection\n",
      "    Goodbye Goody Gosh Wow Jeepers Jee-sus Hubba Hey Kee-reist Oops amen\n",
      "    huh howdy uh dammit whammo shucks heck anyways whodunnit honey golly\n",
      "    man baby diddle hush sonuvabitch ...\n",
      "VB: verb, base form\n",
      "    ask assemble assess assign assume atone attention avoid bake balkanize\n",
      "    bank begin behold believe bend benefit bevel beware bless boil bomb\n",
      "    boost brace break bring broil brush build ...\n",
      "VBD: verb, past tense\n",
      "    dipped pleaded swiped regummed soaked tidied convened halted registered\n",
      "    cushioned exacted snubbed strode aimed adopted belied figgered\n",
      "    speculated wore appreciated contemplated ...\n",
      "VBG: verb, present participle or gerund\n",
      "    telegraphing stirring focusing angering judging stalling lactating\n",
      "    hankerin' alleging veering capping approaching traveling besieging\n",
      "    encrypting interrupting erasing wincing ...\n",
      "VBN: verb, past participle\n",
      "    multihulled dilapidated aerosolized chaired languished panelized used\n",
      "    experimented flourished imitated reunifed factored condensed sheared\n",
      "    unsettled primed dubbed desired ...\n",
      "VBP: verb, present tense, not 3rd person singular\n",
      "    predominate wrap resort sue twist spill cure lengthen brush terminate\n",
      "    appear tend stray glisten obtain comprise detest tease attract\n",
      "    emphasize mold postpone sever return wag ...\n",
      "VBZ: verb, present tense, 3rd person singular\n",
      "    bases reconstructs marks mixes displeases seals carps weaves snatches\n",
      "    slumps stretches authorizes smolders pictures emerges stockpiles\n",
      "    seduces fizzes uses bolsters slaps speaks pleads ...\n",
      "WDT: WH-determiner\n",
      "    that what whatever which whichever\n",
      "WP: WH-pronoun\n",
      "    that what whatever whatsoever which who whom whosoever\n",
      "WP$: WH-pronoun, possessive\n",
      "    whose\n",
      "WRB: Wh-adverb\n",
      "    how however whence whenever where whereby whereever wherein whereof why\n",
      "``: opening quotation mark\n",
      "    ` ``\n"
     ]
    }
   ],
   "source": [
    "nltk.help.upenn_tagset()"
   ]
  },
  {
   "cell_type": "code",
   "execution_count": null,
   "metadata": {},
   "outputs": [],
   "source": []
  },
  {
   "cell_type": "code",
   "execution_count": 27,
   "metadata": {},
   "outputs": [],
   "source": [
    "arabic_text = \"\"\"من ويكيبيديا، الموسوعة الحرة\n",
    "اذهب إلى التنقلاذهب إلى البحث\n",
    "\n",
    "شعار مبادرة المصدر المفتوح (OSI)\n",
    "البرمجيات المفتوحة المصدر (بالإنجليزية: Open-source software)‏ هي البرمجيات التي يمكن الاطلاع والتعديل على شفرتها البرمجية باستخدام ترخيص يَمنحُ فيه المالك حقوق الدراسة، التعديل والتوزيع لأي شخص ولأي غرض كان.\n",
    "\n",
    "يمكن تطوير البرامج مفتوحة المصدر بطريقة تعاونية أي أنه بإمكان أي شخص المشاركة والمساهمة في تطويرها، على العكس من البرمجيات الاحتكارية التي لا تتيح الوصول والتعديل على الشيفرة البرمجية إلا للشخص أو الفريق أو المنظمة التي أوجدت هذه الشيفرة.\n",
    "\n",
    "يمكن أن يؤدي تطوير البرمجيات مفتوحة المصدر إلى الحصول على منظورات متنوعة أكثر من تلك الناتجة عن شركة واحدة فقط. بيّن تقرير لمجموعة ستانديش الدولية أن اعتماد نماذج البرمجيات مفتوحة المصدر أدى إلى توفير نحو 60 مليار دولار أمريكي (48 مليار يورو) سنويًا على المستهلكين.\"\"\""
   ]
  },
  {
   "cell_type": "code",
   "execution_count": 29,
   "metadata": {},
   "outputs": [],
   "source": [
    "from nltk.stem import arlstem"
   ]
  },
  {
   "cell_type": "code",
   "execution_count": 36,
   "metadata": {},
   "outputs": [
    {
     "data": {
      "text/plain": [
       "<module 're' from 'C:\\\\ProgramData\\\\Anaconda3\\\\lib\\\\re.py'>"
      ]
     },
     "execution_count": 36,
     "metadata": {},
     "output_type": "execute_result"
    }
   ],
   "source": [
    "arlstem.re"
   ]
  },
  {
   "cell_type": "code",
   "execution_count": 38,
   "metadata": {},
   "outputs": [
    {
     "data": {
      "text/plain": [
       "nltk.stem.arlstem.ARLSTem"
      ]
     },
     "execution_count": 38,
     "metadata": {},
     "output_type": "execute_result"
    }
   ],
   "source": [
    "arlstem.ARLSTem"
   ]
  },
  {
   "cell_type": "code",
   "execution_count": 39,
   "metadata": {},
   "outputs": [
    {
     "data": {
      "text/plain": [
       "nltk.stem.api.StemmerI"
      ]
     },
     "execution_count": 39,
     "metadata": {},
     "output_type": "execute_result"
    }
   ],
   "source": [
    "arlstem.StemmerI"
   ]
  },
  {
   "cell_type": "code",
   "execution_count": 41,
   "metadata": {},
   "outputs": [],
   "source": [
    "stemmer = arlstem.ARLSTem()"
   ]
  },
  {
   "cell_type": "code",
   "execution_count": null,
   "metadata": {},
   "outputs": [],
   "source": [
    "words2 = word_tokenize(grammar1)"
   ]
  },
  {
   "cell_type": "code",
   "execution_count": 46,
   "metadata": {},
   "outputs": [],
   "source": [
    "word = word_tokenize(arabic_text)"
   ]
  },
  {
   "cell_type": "code",
   "execution_count": null,
   "metadata": {},
   "outputs": [],
   "source": []
  },
  {
   "cell_type": "code",
   "execution_count": 43,
   "metadata": {},
   "outputs": [],
   "source": []
  },
  {
   "cell_type": "code",
   "execution_count": 47,
   "metadata": {},
   "outputs": [
    {
     "name": "stdout",
     "output_type": "stream",
     "text": [
      "['من', 'ويكيبيديا،', 'الموسوعة', 'الحرة', 'اذهب', 'إلى', 'التنقلاذهب', 'إلى', 'البحث', 'شعار', 'مبادرة', 'المصدر', 'المفتوح', '(', 'OSI', ')', 'البرمجيات', 'المفتوحة', 'المصدر', '(', 'بالإنجليزية', ':', 'Open-source', 'software', ')', '\\u200f', 'هي', 'البرمجيات', 'التي', 'يمكن', 'الاطلاع', 'والتعديل', 'على', 'شفرتها', 'البرمجية', 'باستخدام', 'ترخيص', 'يَمنحُ', 'فيه', 'المالك', 'حقوق', 'الدراسة،', 'التعديل', 'والتوزيع', 'لأي', 'شخص', 'ولأي', 'غرض', 'كان', '.', 'يمكن', 'تطوير', 'البرامج', 'مفتوحة', 'المصدر', 'بطريقة', 'تعاونية', 'أي', 'أنه', 'بإمكان', 'أي', 'شخص', 'المشاركة', 'والمساهمة', 'في', 'تطويرها،', 'على', 'العكس', 'من', 'البرمجيات', 'الاحتكارية', 'التي', 'لا', 'تتيح', 'الوصول', 'والتعديل', 'على', 'الشيفرة', 'البرمجية', 'إلا', 'للشخص', 'أو', 'الفريق', 'أو', 'المنظمة', 'التي', 'أوجدت', 'هذه', 'الشيفرة', '.', 'يمكن', 'أن', 'يؤدي', 'تطوير', 'البرمجيات', 'مفتوحة', 'المصدر', 'إلى', 'الحصول', 'على', 'منظورات', 'متنوعة', 'أكثر', 'من', 'تلك', 'الناتجة', 'عن', 'شركة', 'واحدة', 'فقط', '.', 'بيّن', 'تقرير', 'لمجموعة', 'ستانديش', 'الدولية', 'أن', 'اعتماد', 'نماذج', 'البرمجيات', 'مفتوحة', 'المصدر', 'أدى', 'إلى', 'توفير', 'نحو', '60', 'مليار', 'دولار', 'أمريكي', '(', '48', 'مليار', 'يورو', ')', 'سنويًا', 'على', 'المستهلكين', '.']\n"
     ]
    }
   ],
   "source": [
    "print(word)"
   ]
  },
  {
   "cell_type": "code",
   "execution_count": null,
   "metadata": {},
   "outputs": [],
   "source": []
  },
  {
   "cell_type": "code",
   "execution_count": 35,
   "metadata": {},
   "outputs": [
    {
     "ename": "ImportError",
     "evalue": "cannot import name 'ARLSTem2' from 'nltk.stem' (C:\\ProgramData\\Anaconda3\\lib\\site-packages\\nltk\\stem\\__init__.py)",
     "output_type": "error",
     "traceback": [
      "\u001b[1;31m---------------------------------------------------------------------------\u001b[0m",
      "\u001b[1;31mImportError\u001b[0m                               Traceback (most recent call last)",
      "\u001b[1;32m<ipython-input-35-e50b1d36720a>\u001b[0m in \u001b[0;36m<module>\u001b[1;34m\u001b[0m\n\u001b[1;32m----> 1\u001b[1;33m \u001b[1;32mfrom\u001b[0m \u001b[0mnltk\u001b[0m\u001b[1;33m.\u001b[0m\u001b[0mstem\u001b[0m \u001b[1;32mimport\u001b[0m \u001b[0mARLSTem2\u001b[0m\u001b[1;33m\u001b[0m\u001b[1;33m\u001b[0m\u001b[0m\n\u001b[0m",
      "\u001b[1;31mImportError\u001b[0m: cannot import name 'ARLSTem2' from 'nltk.stem' (C:\\ProgramData\\Anaconda3\\lib\\site-packages\\nltk\\stem\\__init__.py)"
     ]
    }
   ],
   "source": [
    "from nltk.stem import ARLSTem2"
   ]
  },
  {
   "cell_type": "code",
   "execution_count": 9,
   "metadata": {},
   "outputs": [
    {
     "name": "stderr",
     "output_type": "stream",
     "text": [
      "[nltk_data] Error loading C:: Package 'C:' not found in index\n"
     ]
    },
    {
     "data": {
      "text/plain": [
       "False"
      ]
     },
     "execution_count": 9,
     "metadata": {},
     "output_type": "execute_result"
    }
   ],
   "source": [
    "nltk.download('C:')\n"
   ]
  },
  {
   "cell_type": "code",
   "execution_count": 7,
   "metadata": {},
   "outputs": [
    {
     "ename": "NameError",
     "evalue": "name 'grammar1' is not defined",
     "output_type": "error",
     "traceback": [
      "\u001b[1;31m---------------------------------------------------------------------------\u001b[0m",
      "\u001b[1;31mNameError\u001b[0m                                 Traceback (most recent call last)",
      "\u001b[1;32m<ipython-input-7-5052c511689e>\u001b[0m in \u001b[0;36m<module>\u001b[1;34m\u001b[0m\n\u001b[1;32m----> 1\u001b[1;33m \u001b[0msr_parser\u001b[0m \u001b[1;33m=\u001b[0m \u001b[0mnltk\u001b[0m\u001b[1;33m.\u001b[0m\u001b[0mShiftReduceParser\u001b[0m\u001b[1;33m(\u001b[0m\u001b[0mgrammar1\u001b[0m\u001b[1;33m)\u001b[0m\u001b[1;33m\u001b[0m\u001b[1;33m\u001b[0m\u001b[0m\n\u001b[0m",
      "\u001b[1;31mNameError\u001b[0m: name 'grammar1' is not defined"
     ]
    }
   ],
   "source": [
    "sr_parser = nltk.ShiftReduceParser(grammar1)"
   ]
  },
  {
   "cell_type": "code",
   "execution_count": 1,
   "metadata": {
    "ExecuteTime": {
     "end_time": "2020-05-27T14:56:29.034490Z",
     "start_time": "2020-05-27T14:56:26.519729Z"
    }
   },
   "outputs": [
    {
     "ename": "ModuleNotFoundError",
     "evalue": "No module named 'graphbrain'",
     "output_type": "error",
     "traceback": [
      "\u001b[1;31m---------------------------------------------------------------------------\u001b[0m",
      "\u001b[1;31mModuleNotFoundError\u001b[0m                       Traceback (most recent call last)",
      "\u001b[1;32m<ipython-input-1-5a39cd3ede44>\u001b[0m in \u001b[0;36m<module>\u001b[1;34m\u001b[0m\n\u001b[1;32m----> 1\u001b[1;33m \u001b[1;32mfrom\u001b[0m \u001b[0mgraphbrain\u001b[0m\u001b[1;33m.\u001b[0m\u001b[0mnotebook\u001b[0m \u001b[1;32mimport\u001b[0m \u001b[1;33m*\u001b[0m\u001b[1;33m\u001b[0m\u001b[1;33m\u001b[0m\u001b[0m\n\u001b[0m\u001b[0;32m      2\u001b[0m \u001b[1;32mfrom\u001b[0m \u001b[0mgraphbrain\u001b[0m\u001b[1;33m.\u001b[0m\u001b[0mparsers\u001b[0m \u001b[1;32mimport\u001b[0m \u001b[1;33m*\u001b[0m\u001b[1;33m\u001b[0m\u001b[1;33m\u001b[0m\u001b[0m\n",
      "\u001b[1;31mModuleNotFoundError\u001b[0m: No module named 'graphbrain'"
     ]
    }
   ],
   "source": [
    "from graphbrain.notebook import *\n",
    "from graphbrain.parsers import *"
   ]
  },
  {
   "cell_type": "markdown",
   "metadata": {},
   "source": [
    "**Note**: When the cell bellow is run, the parser is initalized. This can take from a few seconds to a minute."
   ]
  },
  {
   "cell_type": "code",
   "execution_count": 2,
   "metadata": {
    "ExecuteTime": {
     "end_time": "2020-05-27T14:57:00.221073Z",
     "start_time": "2020-05-27T14:56:29.050278Z"
    }
   },
   "outputs": [],
   "source": [
    "# create the parser object\n",
    "parser = create_parser(name='en')"
   ]
  },
  {
   "cell_type": "code",
   "execution_count": 3,
   "metadata": {
    "ExecuteTime": {
     "end_time": "2020-05-27T14:57:00.465965Z",
     "start_time": "2020-05-27T14:57:00.268358Z"
    },
    "scrolled": true
   },
   "outputs": [
    {
     "data": {
      "text/html": [
       "<span style=\"color:#a65628\"><span style=\"font-weight:bold;font-size:14pt;\">(</span><span style=\"font-size:14pt;\"><span style=\"font-weight:bold;color:#a65628\">is</span><span style=\"color:#7F7F6F;font-size:8pt\">/Pd.sc.|f--3s-/en</span></span> <div style=\"margin-left:20px;color:#377eb8\"><span style=\"font-weight:bold;font-size:13pt;\">(</span><span style=\"font-size:13pt;\"><span style=\"font-weight:bold;color:#377eb8\">:</span><span style=\"color:#7F7F6F;font-size:8pt\">/J/.</span></span> <div style=\"margin-left:20px;color:#4daf4a\"><span style=\"font-weight:bold;font-size:12pt;\">(</span><span style=\"font-size:12pt;\"><span style=\"font-weight:bold;color:#4daf4a\">the</span><span style=\"color:#7F7F6F;font-size:8pt\">/Md/en</span></span> <div style=\"margin-left:20px;color:#984ea3\"><span style=\"font-weight:bold;font-size:11pt;\">(</span><span style=\"font-size:11pt;\"><span style=\"font-weight:bold;color:#984ea3\">+</span><span style=\"color:#7F7F6F;font-size:8pt\">/B.am/.</span></span> <span style=\"font-size:11pt;\"><span style=\"color:#404040\">turing</span><span style=\"color:#7F7F6F;font-size:8pt\">/Cp.s/en</span></span> <span style=\"font-size:11pt;\"><span style=\"color:#404040\">test</span><span style=\"color:#7F7F6F;font-size:8pt\">/Cc.s/en</span></span><span style=\"color:#984ea3\"><span style=\"font-weight:bold;font-size:11pt;\">)</span></span><span style=\"color:#4daf4a\"><span style=\"font-weight:bold;font-size:12pt;\">)</span></span></div></div> <div style=\"margin-left:20px;color:#4daf4a\"><span style=\"font-weight:bold;font-size:12pt;\">(</span><span style=\"font-size:12pt;\"><span style=\"font-weight:bold;color:#4daf4a\">developed</span><span style=\"color:#7F7F6F;font-size:8pt\">/P.ax.&lt;pf----/en</span></span> <div style=\"margin-left:20px;color:#984ea3\"><span style=\"font-weight:bold;font-size:11pt;\">(</span><span style=\"font-size:11pt;\"><span style=\"font-weight:bold;color:#984ea3\">by</span><span style=\"color:#7F7F6F;font-size:8pt\">/T/en</span></span> <div style=\"margin-left:20px;color:#ff7f00\"><span style=\"font-weight:bold;font-size:10pt;\">(</span><span style=\"font-size:10pt;\"><span style=\"font-weight:bold;color:#ff7f00\">+</span><span style=\"color:#7F7F6F;font-size:8pt\">/B.am/.</span></span> <span style=\"font-size:10pt;\"><span style=\"color:#404040\">alan</span><span style=\"color:#7F7F6F;font-size:8pt\">/Cp.s/en</span></span> <span style=\"font-size:10pt;\"><span style=\"color:#404040\">turing</span><span style=\"color:#7F7F6F;font-size:8pt\">/Cp.s/en</span></span><span style=\"color:#ff7f00\"><span style=\"font-weight:bold;font-size:10pt;\">)</span></span><span style=\"color:#984ea3\"><span style=\"font-weight:bold;font-size:11pt;\">)</span></span></div></div> <div style=\"margin-left:20px;color:#984ea3\"><span style=\"font-weight:bold;font-size:11pt;\">(</span><span style=\"font-size:11pt;\"><span style=\"font-weight:bold;color:#984ea3\">in</span><span style=\"color:#7F7F6F;font-size:8pt\">/Tt/en</span></span> <span style=\"font-size:11pt;\"><span style=\"color:#404040\">1950</span><span style=\"color:#7F7F6F;font-size:8pt\">/C#/en</span></span><span style=\"color:#984ea3\"><span style=\"font-weight:bold;font-size:11pt;\">)</span></span><span style=\"color:#4daf4a\"><span style=\"font-weight:bold;font-size:12pt;\">)</span></span><span style=\"color:#377eb8\"><span style=\"font-weight:bold;font-size:13pt;\">)</span></span></div></div></div> <div style=\"margin-left:20px;color:#377eb8\"><span style=\"font-weight:bold;font-size:13pt;\">(</span><span style=\"font-size:13pt;\"><span style=\"font-weight:bold;color:#377eb8\">a</span><span style=\"color:#7F7F6F;font-size:8pt\">/Md/en</span></span> <div style=\"margin-left:20px;color:#4daf4a\"><span style=\"font-weight:bold;font-size:12pt;\">(</span><span style=\"font-size:12pt;\"><span style=\"font-weight:bold;color:#4daf4a\">of</span><span style=\"color:#7F7F6F;font-size:8pt\">/Br.ma/en</span></span> <div style=\"margin-left:20px;font-size:12pt;\"><span style=\"color:#404040\">test</span><span style=\"color:#7F7F6F;font-size:8pt\">/Cc.s/en</span></div> <div style=\"margin-left:20px;color:#984ea3\"><span style=\"font-weight:bold;font-size:11pt;\">(</span><span style=\"font-size:11pt;\"><span style=\"font-weight:bold;color:#984ea3\">+</span><span style=\"color:#7F7F6F;font-size:8pt\">/B.am/.</span></span> <span style=\"font-size:11pt;\"><span style=\"color:#404040\">machine</span><span style=\"color:#7F7F6F;font-size:8pt\">/Cc.s/en</span></span> <span style=\"font-size:11pt;\"><span style=\"color:#404040\">intelligence</span><span style=\"color:#7F7F6F;font-size:8pt\">/Cc.s/en</span></span><span style=\"color:#984ea3\"><span style=\"font-weight:bold;font-size:11pt;\">)</span></span><span style=\"color:#4daf4a\"><span style=\"font-weight:bold;font-size:12pt;\">)</span></span><span style=\"color:#377eb8\"><span style=\"font-weight:bold;font-size:13pt;\">)</span></span><span style=\"color:#a65628\"><span style=\"font-weight:bold;font-size:14pt;\">)</span></span></div></div></div></span>"
      ],
      "text/plain": [
       "<IPython.core.display.HTML object>"
      ]
     },
     "metadata": {},
     "output_type": "display_data"
    }
   ],
   "source": [
    "# change to whatever you like...\n",
    "text = \"\"\"\n",
    "The Turing test, developed by Alan Turing in 1950, is a test of machine intelligence.\n",
    "\"\"\"\n",
    "\n",
    "roots_only = False\n",
    "style = 'indented'  # possible values: 'indented', 'compact' and 'oneline'\n",
    "tree = False\n",
    "\n",
    "parse_result = parser.parse(text)\n",
    "for parse in parse_result['parses']:\n",
    "    if tree:\n",
    "        print_tree(parse['spacy_sentence'].root)\n",
    "    show(parse['main_edge'], roots_only=roots_only, style=style)"
   ]
  },
  {
   "cell_type": "code",
   "execution_count": null,
   "metadata": {},
   "outputs": [],
   "source": []
  }
 ],
 "metadata": {
  "kernelspec": {
   "display_name": "Python 3",
   "language": "python",
   "name": "python3"
  },
  "language_info": {
   "codemirror_mode": {
    "name": "ipython",
    "version": 3
   },
   "file_extension": ".py",
   "mimetype": "text/x-python",
   "name": "python",
   "nbconvert_exporter": "python",
   "pygments_lexer": "ipython3",
   "version": "3.8.3"
  }
 },
 "nbformat": 4,
 "nbformat_minor": 2
}
