{
 "cells": [
  {
   "cell_type": "markdown",
   "metadata": {},
   "source": [
    "# Graphbrain parser\n",
    "\n",
    "This notebook is a simple demonstration of the Graphbrain parser, which transforms a sentence in natural language into an hyperedge."
   ]
  },
  {
   "cell_type": "code",
   "execution_count": null,
   "metadata": {},
   "outputs": [],
   "source": [
    "pip install graphbrain"
   ]
  },
  {
   "cell_type": "code",
   "execution_count": 1,
   "metadata": {
    "ExecuteTime": {
     "end_time": "2020-05-27T14:56:29.034490Z",
     "start_time": "2020-05-27T14:56:26.519729Z"
    }
   },
   "outputs": [
    {
     "ename": "ModuleNotFoundError",
     "evalue": "No module named 'graphbrain'",
     "output_type": "error",
     "traceback": [
      "\u001b[1;31m---------------------------------------------------------------------------\u001b[0m",
      "\u001b[1;31mModuleNotFoundError\u001b[0m                       Traceback (most recent call last)",
      "\u001b[1;32m<ipython-input-1-5a39cd3ede44>\u001b[0m in \u001b[0;36m<module>\u001b[1;34m\u001b[0m\n\u001b[1;32m----> 1\u001b[1;33m \u001b[1;32mfrom\u001b[0m \u001b[0mgraphbrain\u001b[0m\u001b[1;33m.\u001b[0m\u001b[0mnotebook\u001b[0m \u001b[1;32mimport\u001b[0m \u001b[1;33m*\u001b[0m\u001b[1;33m\u001b[0m\u001b[1;33m\u001b[0m\u001b[0m\n\u001b[0m\u001b[0;32m      2\u001b[0m \u001b[1;32mfrom\u001b[0m \u001b[0mgraphbrain\u001b[0m\u001b[1;33m.\u001b[0m\u001b[0mparsers\u001b[0m \u001b[1;32mimport\u001b[0m \u001b[1;33m*\u001b[0m\u001b[1;33m\u001b[0m\u001b[1;33m\u001b[0m\u001b[0m\n",
      "\u001b[1;31mModuleNotFoundError\u001b[0m: No module named 'graphbrain'"
     ]
    }
   ],
   "source": [
    "from graphbrain.notebook import *\n",
    "from graphbrain.parsers import *"
   ]
  },
  {
   "cell_type": "markdown",
   "metadata": {},
   "source": [
    "**Note**: When the cell bellow is run, the parser is initalized. This can take from a few seconds to a minute."
   ]
  },
  {
   "cell_type": "code",
   "execution_count": 2,
   "metadata": {
    "ExecuteTime": {
     "end_time": "2020-05-27T14:57:00.221073Z",
     "start_time": "2020-05-27T14:56:29.050278Z"
    }
   },
   "outputs": [],
   "source": [
    "# create the parser object\n",
    "parser = create_parser(name='en')"
   ]
  },
  {
   "cell_type": "code",
   "execution_count": 3,
   "metadata": {
    "ExecuteTime": {
     "end_time": "2020-05-27T14:57:00.465965Z",
     "start_time": "2020-05-27T14:57:00.268358Z"
    },
    "scrolled": true
   },
   "outputs": [
    {
     "data": {
      "text/html": [
       "<span style=\"color:#a65628\"><span style=\"font-weight:bold;font-size:14pt;\">(</span><span style=\"font-size:14pt;\"><span style=\"font-weight:bold;color:#a65628\">is</span><span style=\"color:#7F7F6F;font-size:8pt\">/Pd.sc.|f--3s-/en</span></span> <div style=\"margin-left:20px;color:#377eb8\"><span style=\"font-weight:bold;font-size:13pt;\">(</span><span style=\"font-size:13pt;\"><span style=\"font-weight:bold;color:#377eb8\">:</span><span style=\"color:#7F7F6F;font-size:8pt\">/J/.</span></span> <div style=\"margin-left:20px;color:#4daf4a\"><span style=\"font-weight:bold;font-size:12pt;\">(</span><span style=\"font-size:12pt;\"><span style=\"font-weight:bold;color:#4daf4a\">the</span><span style=\"color:#7F7F6F;font-size:8pt\">/Md/en</span></span> <div style=\"margin-left:20px;color:#984ea3\"><span style=\"font-weight:bold;font-size:11pt;\">(</span><span style=\"font-size:11pt;\"><span style=\"font-weight:bold;color:#984ea3\">+</span><span style=\"color:#7F7F6F;font-size:8pt\">/B.am/.</span></span> <span style=\"font-size:11pt;\"><span style=\"color:#404040\">turing</span><span style=\"color:#7F7F6F;font-size:8pt\">/Cp.s/en</span></span> <span style=\"font-size:11pt;\"><span style=\"color:#404040\">test</span><span style=\"color:#7F7F6F;font-size:8pt\">/Cc.s/en</span></span><span style=\"color:#984ea3\"><span style=\"font-weight:bold;font-size:11pt;\">)</span></span><span style=\"color:#4daf4a\"><span style=\"font-weight:bold;font-size:12pt;\">)</span></span></div></div> <div style=\"margin-left:20px;color:#4daf4a\"><span style=\"font-weight:bold;font-size:12pt;\">(</span><span style=\"font-size:12pt;\"><span style=\"font-weight:bold;color:#4daf4a\">developed</span><span style=\"color:#7F7F6F;font-size:8pt\">/P.ax.&lt;pf----/en</span></span> <div style=\"margin-left:20px;color:#984ea3\"><span style=\"font-weight:bold;font-size:11pt;\">(</span><span style=\"font-size:11pt;\"><span style=\"font-weight:bold;color:#984ea3\">by</span><span style=\"color:#7F7F6F;font-size:8pt\">/T/en</span></span> <div style=\"margin-left:20px;color:#ff7f00\"><span style=\"font-weight:bold;font-size:10pt;\">(</span><span style=\"font-size:10pt;\"><span style=\"font-weight:bold;color:#ff7f00\">+</span><span style=\"color:#7F7F6F;font-size:8pt\">/B.am/.</span></span> <span style=\"font-size:10pt;\"><span style=\"color:#404040\">alan</span><span style=\"color:#7F7F6F;font-size:8pt\">/Cp.s/en</span></span> <span style=\"font-size:10pt;\"><span style=\"color:#404040\">turing</span><span style=\"color:#7F7F6F;font-size:8pt\">/Cp.s/en</span></span><span style=\"color:#ff7f00\"><span style=\"font-weight:bold;font-size:10pt;\">)</span></span><span style=\"color:#984ea3\"><span style=\"font-weight:bold;font-size:11pt;\">)</span></span></div></div> <div style=\"margin-left:20px;color:#984ea3\"><span style=\"font-weight:bold;font-size:11pt;\">(</span><span style=\"font-size:11pt;\"><span style=\"font-weight:bold;color:#984ea3\">in</span><span style=\"color:#7F7F6F;font-size:8pt\">/Tt/en</span></span> <span style=\"font-size:11pt;\"><span style=\"color:#404040\">1950</span><span style=\"color:#7F7F6F;font-size:8pt\">/C#/en</span></span><span style=\"color:#984ea3\"><span style=\"font-weight:bold;font-size:11pt;\">)</span></span><span style=\"color:#4daf4a\"><span style=\"font-weight:bold;font-size:12pt;\">)</span></span><span style=\"color:#377eb8\"><span style=\"font-weight:bold;font-size:13pt;\">)</span></span></div></div></div> <div style=\"margin-left:20px;color:#377eb8\"><span style=\"font-weight:bold;font-size:13pt;\">(</span><span style=\"font-size:13pt;\"><span style=\"font-weight:bold;color:#377eb8\">a</span><span style=\"color:#7F7F6F;font-size:8pt\">/Md/en</span></span> <div style=\"margin-left:20px;color:#4daf4a\"><span style=\"font-weight:bold;font-size:12pt;\">(</span><span style=\"font-size:12pt;\"><span style=\"font-weight:bold;color:#4daf4a\">of</span><span style=\"color:#7F7F6F;font-size:8pt\">/Br.ma/en</span></span> <div style=\"margin-left:20px;font-size:12pt;\"><span style=\"color:#404040\">test</span><span style=\"color:#7F7F6F;font-size:8pt\">/Cc.s/en</span></div> <div style=\"margin-left:20px;color:#984ea3\"><span style=\"font-weight:bold;font-size:11pt;\">(</span><span style=\"font-size:11pt;\"><span style=\"font-weight:bold;color:#984ea3\">+</span><span style=\"color:#7F7F6F;font-size:8pt\">/B.am/.</span></span> <span style=\"font-size:11pt;\"><span style=\"color:#404040\">machine</span><span style=\"color:#7F7F6F;font-size:8pt\">/Cc.s/en</span></span> <span style=\"font-size:11pt;\"><span style=\"color:#404040\">intelligence</span><span style=\"color:#7F7F6F;font-size:8pt\">/Cc.s/en</span></span><span style=\"color:#984ea3\"><span style=\"font-weight:bold;font-size:11pt;\">)</span></span><span style=\"color:#4daf4a\"><span style=\"font-weight:bold;font-size:12pt;\">)</span></span><span style=\"color:#377eb8\"><span style=\"font-weight:bold;font-size:13pt;\">)</span></span><span style=\"color:#a65628\"><span style=\"font-weight:bold;font-size:14pt;\">)</span></span></div></div></div></span>"
      ],
      "text/plain": [
       "<IPython.core.display.HTML object>"
      ]
     },
     "metadata": {},
     "output_type": "display_data"
    }
   ],
   "source": [
    "# change to whatever you like...\n",
    "text = \"\"\"\n",
    "The Turing test, developed by Alan Turing in 1950, is a test of machine intelligence.\n",
    "\"\"\"\n",
    "\n",
    "roots_only = False\n",
    "style = 'indented'  # possible values: 'indented', 'compact' and 'oneline'\n",
    "tree = False\n",
    "\n",
    "parse_result = parser.parse(text)\n",
    "for parse in parse_result['parses']:\n",
    "    if tree:\n",
    "        print_tree(parse['spacy_sentence'].root)\n",
    "    show(parse['main_edge'], roots_only=roots_only, style=style)"
   ]
  },
  {
   "cell_type": "code",
   "execution_count": null,
   "metadata": {},
   "outputs": [],
   "source": []
  }
 ],
 "metadata": {
  "kernelspec": {
   "display_name": "Python 3",
   "language": "python",
   "name": "python3"
  },
  "language_info": {
   "codemirror_mode": {
    "name": "ipython",
    "version": 3
   },
   "file_extension": ".py",
   "mimetype": "text/x-python",
   "name": "python",
   "nbconvert_exporter": "python",
   "pygments_lexer": "ipython3",
   "version": "3.8.3"
  }
 },
 "nbformat": 4,
 "nbformat_minor": 2
}
