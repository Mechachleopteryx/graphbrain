{
 "cells": [
  {
   "cell_type": "markdown",
   "metadata": {},
   "source": [
    "# Hypergraph operations\n",
    "\n",
    "This notebook provides examples of several operations with an hypergraph, namely:\n",
    "\n",
    "* Creating an hypergraph\n",
    "* Adding the result of parsing natural text to an hypergraph\n",
    "* Pattern-based queries"
   ]
  },
  {
   "cell_type": "code",
   "execution_count": 2,
   "metadata": {},
   "outputs": [
    {
     "name": "stdout",
     "output_type": "stream",
     "text": [
      "Collecting graphbrain\n",
      "  Using cached graphbrain-0.5.0.tar.gz (1.2 MB)\n",
      "  Installing build dependencies: started\n",
      "  Installing build dependencies: finished with status 'done'\n",
      "  Getting requirements to build wheel: started\n",
      "  Getting requirements to build wheel: finished with status 'error'\n",
      "Note: you may need to restart the kernel to use updated packages.\n"
     ]
    },
    {
     "name": "stderr",
     "output_type": "stream",
     "text": [
      "  ERROR: Command errored out with exit status 1:\n",
      "   command: 'C:\\ProgramData\\Anaconda3\\python.exe' 'C:\\ProgramData\\Anaconda3\\lib\\site-packages\\pip\\_vendor\\pep517\\_in_process.py' get_requires_for_build_wheel 'C:\\Users\\MECHAC~1\\AppData\\Local\\Temp\\tmpwyz5fou2'\n",
      "       cwd: C:\\Users\\Mechachleopteryx\\AppData\\Local\\Temp\\pip-install-mrsqk9tu\\graphbrain\n",
      "  Complete output (20 lines):\n",
      "  Traceback (most recent call last):\n",
      "    File \"C:\\ProgramData\\Anaconda3\\lib\\site-packages\\pip\\_vendor\\pep517\\_in_process.py\", line 280, in <module>\n",
      "      main()\n",
      "    File \"C:\\ProgramData\\Anaconda3\\lib\\site-packages\\pip\\_vendor\\pep517\\_in_process.py\", line 263, in main\n",
      "      json_out['return_val'] = hook(**hook_input['kwargs'])\n",
      "    File \"C:\\ProgramData\\Anaconda3\\lib\\site-packages\\pip\\_vendor\\pep517\\_in_process.py\", line 114, in get_requires_for_build_wheel\n",
      "      return hook(config_settings)\n",
      "    File \"C:\\Users\\Mechachleopteryx\\AppData\\Local\\Temp\\pip-build-env-zz2id4z8\\overlay\\Lib\\site-packages\\setuptools\\build_meta.py\", line 154, in get_requires_for_build_wheel\n",
      "      return self._get_build_requires(\n",
      "    File \"C:\\Users\\Mechachleopteryx\\AppData\\Local\\Temp\\pip-build-env-zz2id4z8\\overlay\\Lib\\site-packages\\setuptools\\build_meta.py\", line 135, in _get_build_requires\n",
      "      self.run_setup()\n",
      "    File \"C:\\Users\\Mechachleopteryx\\AppData\\Local\\Temp\\pip-build-env-zz2id4z8\\overlay\\Lib\\site-packages\\setuptools\\build_meta.py\", line 258, in run_setup\n",
      "      super(_BuildMetaLegacyBackend,\n",
      "    File \"C:\\Users\\Mechachleopteryx\\AppData\\Local\\Temp\\pip-build-env-zz2id4z8\\overlay\\Lib\\site-packages\\setuptools\\build_meta.py\", line 150, in run_setup\n",
      "      exec(compile(code, __file__, 'exec'), locals())\n",
      "    File \"setup.py\", line 149, in <module>\n",
      "      long_description = fh.read()\n",
      "    File \"C:\\ProgramData\\Anaconda3\\lib\\encodings\\cp1252.py\", line 23, in decode\n",
      "      return codecs.charmap_decode(input,self.errors,decoding_table)[0]\n",
      "  UnicodeDecodeError: 'charmap' codec can't decode byte 0x9d in position 955: character maps to <undefined>\n",
      "  ----------------------------------------\n",
      "ERROR: Command errored out with exit status 1: 'C:\\ProgramData\\Anaconda3\\python.exe' 'C:\\ProgramData\\Anaconda3\\lib\\site-packages\\pip\\_vendor\\pep517\\_in_process.py' get_requires_for_build_wheel 'C:\\Users\\MECHAC~1\\AppData\\Local\\Temp\\tmpwyz5fou2' Check the logs for full command output.\n"
     ]
    }
   ],
   "source": [
    "pip install graphbrain"
   ]
  },
  {
   "cell_type": "code",
   "execution_count": 1,
   "metadata": {
    "ExecuteTime": {
     "end_time": "2020-05-28T09:01:54.780324Z",
     "start_time": "2020-05-28T09:01:52.829934Z"
    }
   },
   "outputs": [
    {
     "ename": "ModuleNotFoundError",
     "evalue": "No module named 'graphbrain'",
     "output_type": "error",
     "traceback": [
      "\u001b[1;31m---------------------------------------------------------------------------\u001b[0m",
      "\u001b[1;31mModuleNotFoundError\u001b[0m                       Traceback (most recent call last)",
      "\u001b[1;32m<ipython-input-1-7745775047f1>\u001b[0m in \u001b[0;36m<module>\u001b[1;34m\u001b[0m\n\u001b[1;32m----> 1\u001b[1;33m \u001b[1;32mfrom\u001b[0m \u001b[0mgraphbrain\u001b[0m \u001b[1;32mimport\u001b[0m \u001b[1;33m*\u001b[0m\u001b[1;33m\u001b[0m\u001b[1;33m\u001b[0m\u001b[0m\n\u001b[0m\u001b[0;32m      2\u001b[0m \u001b[1;32mfrom\u001b[0m \u001b[0mgraphbrain\u001b[0m\u001b[1;33m.\u001b[0m\u001b[0mnotebook\u001b[0m \u001b[1;32mimport\u001b[0m \u001b[1;33m*\u001b[0m\u001b[1;33m\u001b[0m\u001b[1;33m\u001b[0m\u001b[0m\n\u001b[0;32m      3\u001b[0m \u001b[1;32mfrom\u001b[0m \u001b[0mgraphbrain\u001b[0m\u001b[1;33m.\u001b[0m\u001b[0mparsers\u001b[0m \u001b[1;32mimport\u001b[0m \u001b[1;33m*\u001b[0m\u001b[1;33m\u001b[0m\u001b[1;33m\u001b[0m\u001b[0m\n",
      "\u001b[1;31mModuleNotFoundError\u001b[0m: No module named 'graphbrain'"
     ]
    }
   ],
   "source": [
    "from graphbrain import *\n",
    "from graphbrain.notebook import *\n",
    "from graphbrain.parsers import *"
   ]
  },
  {
   "cell_type": "markdown",
   "metadata": {},
   "source": [
    "## Create the hypergraph"
   ]
  },
  {
   "cell_type": "code",
   "execution_count": 2,
   "metadata": {
    "ExecuteTime": {
     "end_time": "2020-05-28T09:01:55.145206Z",
     "start_time": "2020-05-28T09:01:55.126841Z"
    }
   },
   "outputs": [],
   "source": [
    "hg = hgraph('example.hg')"
   ]
  },
  {
   "cell_type": "markdown",
   "metadata": {},
   "source": [
    "## Create the parser"
   ]
  },
  {
   "cell_type": "code",
   "execution_count": 3,
   "metadata": {
    "ExecuteTime": {
     "end_time": "2020-05-28T09:02:15.855720Z",
     "start_time": "2020-05-28T09:01:57.079779Z"
    }
   },
   "outputs": [],
   "source": [
    "parser = create_parser(name='en')"
   ]
  },
  {
   "cell_type": "markdown",
   "metadata": {},
   "source": [
    "## Parse text and add to hypergraph"
   ]
  },
  {
   "cell_type": "code",
   "execution_count": 4,
   "metadata": {
    "ExecuteTime": {
     "end_time": "2020-05-28T09:02:16.034787Z",
     "start_time": "2020-05-28T09:02:15.904572Z"
    }
   },
   "outputs": [
    {
     "data": {
      "text/html": [
       "<span style=\"color:#a65628\"><span style=\"font-weight:bold;font-size:12pt;\">(</span><span style=\"color:#377eb8\"><span style=\"font-weight:bold;font-size:12pt;\">(</span><span style=\"font-size:12pt;\"><span style=\"font-weight:bold;color:#377eb8\">is</span></span> <span style=\"font-size:12pt;\"><span style=\"font-weight:bold;color:#404040\">playing</span></span><span style=\"color:#377eb8\"><span style=\"font-weight:bold;font-size:12pt;\">)</span></span></span> <div style=\"margin-left:20px;font-size:12pt;\"><span style=\"color:#404040\">mary</span></div> <div style=\"margin-left:20px;color:#377eb8\"><span style=\"font-weight:bold;font-size:12pt;\">(</span><span style=\"font-size:12pt;\"><span style=\"font-weight:bold;color:#377eb8\">a</span></span> <span style=\"color:#4daf4a\"><span style=\"font-weight:bold;font-size:12pt;\">(</span><span style=\"color:#984ea3\"><span style=\"font-weight:bold;font-size:12pt;\">(</span><span style=\"font-size:12pt;\"><span style=\"font-weight:bold;color:#984ea3\">very</span></span> <span style=\"font-size:12pt;\"><span style=\"font-weight:bold;color:#404040\">old</span></span><span style=\"color:#984ea3\"><span style=\"font-weight:bold;font-size:12pt;\">)</span></span></span> <span style=\"font-size:12pt;\"><span style=\"color:#404040\">violin</span></span><span style=\"color:#4daf4a\"><span style=\"font-weight:bold;font-size:12pt;\">)</span></span><span style=\"color:#377eb8\"><span style=\"font-weight:bold;font-size:12pt;\">)</span></span><span style=\"color:#a65628\"><span style=\"font-weight:bold;font-size:12pt;\">)</span></span></span></div></span>"
      ],
      "text/plain": [
       "<IPython.core.display.HTML object>"
      ]
     },
     "metadata": {},
     "output_type": "display_data"
    }
   ],
   "source": [
    "# change to whatever you like...\n",
    "text = \"\"\"\n",
    "Mary is playing a very old violin.\n",
    "\"\"\"\n",
    "\n",
    "parse_results = parser.parse(text)\n",
    "for parse in parse_results['parses']:\n",
    "    edge = parse['main_edge']\n",
    "    show(edge, style='compact')\n",
    "    hg.add(edge)"
   ]
  },
  {
   "cell_type": "markdown",
   "metadata": {},
   "source": [
    "## Iterate through all edges"
   ]
  },
  {
   "cell_type": "code",
   "execution_count": 5,
   "metadata": {
    "ExecuteTime": {
     "end_time": "2020-05-28T09:02:16.338102Z",
     "start_time": "2020-05-28T09:02:16.040252Z"
    }
   },
   "outputs": [
    {
     "data": {
      "text/html": [
       "<span style=\"color:#a65628\"><span style=\"font-weight:bold;font-size:11pt;\">(</span><span style=\"color:#377eb8\"><span style=\"font-weight:bold;font-size:11pt;\">(</span><span style=\"font-size:11pt;\"><span style=\"font-weight:bold;color:#377eb8\">is</span><span style=\"color:#7F7F6F;font-size:8pt\">/Mv.|f--3s-/en</span></span> <span style=\"font-size:11pt;\"><span style=\"font-weight:bold;color:#404040\">playing</span><span style=\"color:#7F7F6F;font-size:8pt\">/Pd.so.|pg----/en</span></span><span style=\"color:#377eb8\"><span style=\"font-weight:bold;font-size:11pt;\">)</span></span></span> <span style=\"font-size:11pt;\"><span style=\"color:#404040\">mary</span><span style=\"color:#7F7F6F;font-size:8pt\">/Cp.s/en</span></span> <span style=\"color:#377eb8\"><span style=\"font-weight:bold;font-size:11pt;\">(</span><span style=\"font-size:11pt;\"><span style=\"font-weight:bold;color:#377eb8\">a</span><span style=\"color:#7F7F6F;font-size:8pt\">/Md/en</span></span> <span style=\"color:#4daf4a\"><span style=\"font-weight:bold;font-size:11pt;\">(</span><span style=\"color:#984ea3\"><span style=\"font-weight:bold;font-size:11pt;\">(</span><span style=\"font-size:11pt;\"><span style=\"font-weight:bold;color:#984ea3\">very</span><span style=\"color:#7F7F6F;font-size:8pt\">/M/en</span></span> <span style=\"font-size:11pt;\"><span style=\"font-weight:bold;color:#404040\">old</span><span style=\"color:#7F7F6F;font-size:8pt\">/Ma/en</span></span><span style=\"color:#984ea3\"><span style=\"font-weight:bold;font-size:11pt;\">)</span></span></span> <span style=\"font-size:11pt;\"><span style=\"color:#404040\">violin</span><span style=\"color:#7F7F6F;font-size:8pt\">/Cc.s/en</span></span><span style=\"color:#4daf4a\"><span style=\"font-weight:bold;font-size:11pt;\">)</span></span><span style=\"color:#377eb8\"><span style=\"font-weight:bold;font-size:11pt;\">)</span></span><span style=\"color:#a65628\"><span style=\"font-weight:bold;font-size:11pt;\">)</span></span></span></span></span>"
      ],
      "text/plain": [
       "<IPython.core.display.HTML object>"
      ]
     },
     "metadata": {},
     "output_type": "display_data"
    },
    {
     "data": {
      "text/html": [
       "<span style=\"color:#a65628\"><span style=\"font-weight:bold;font-size:11pt;\">(</span><span style=\"color:#377eb8\"><span style=\"font-weight:bold;font-size:11pt;\">(</span><span style=\"font-size:11pt;\"><span style=\"font-weight:bold;color:#377eb8\">very</span><span style=\"color:#7F7F6F;font-size:8pt\">/M/en</span></span> <span style=\"font-size:11pt;\"><span style=\"font-weight:bold;color:#404040\">old</span><span style=\"color:#7F7F6F;font-size:8pt\">/Ma/en</span></span><span style=\"color:#377eb8\"><span style=\"font-weight:bold;font-size:11pt;\">)</span></span></span> <span style=\"font-size:11pt;\"><span style=\"color:#404040\">violin</span><span style=\"color:#7F7F6F;font-size:8pt\">/Cc.s/en</span></span><span style=\"color:#a65628\"><span style=\"font-weight:bold;font-size:11pt;\">)</span></span></span>"
      ],
      "text/plain": [
       "<IPython.core.display.HTML object>"
      ]
     },
     "metadata": {},
     "output_type": "display_data"
    },
    {
     "data": {
      "text/html": [
       "<span style=\"color:#a65628\"><span style=\"font-weight:bold;font-size:11pt;\">(</span><span style=\"font-size:11pt;\"><span style=\"font-weight:bold;color:#a65628\">a</span><span style=\"color:#7F7F6F;font-size:8pt\">/Md/en</span></span> <span style=\"color:#377eb8\"><span style=\"font-weight:bold;font-size:11pt;\">(</span><span style=\"color:#4daf4a\"><span style=\"font-weight:bold;font-size:11pt;\">(</span><span style=\"font-size:11pt;\"><span style=\"font-weight:bold;color:#4daf4a\">very</span><span style=\"color:#7F7F6F;font-size:8pt\">/M/en</span></span> <span style=\"font-size:11pt;\"><span style=\"font-weight:bold;color:#404040\">old</span><span style=\"color:#7F7F6F;font-size:8pt\">/Ma/en</span></span><span style=\"color:#4daf4a\"><span style=\"font-weight:bold;font-size:11pt;\">)</span></span></span> <span style=\"font-size:11pt;\"><span style=\"color:#404040\">violin</span><span style=\"color:#7F7F6F;font-size:8pt\">/Cc.s/en</span></span><span style=\"color:#377eb8\"><span style=\"font-weight:bold;font-size:11pt;\">)</span></span><span style=\"color:#a65628\"><span style=\"font-weight:bold;font-size:11pt;\">)</span></span></span></span>"
      ],
      "text/plain": [
       "<IPython.core.display.HTML object>"
      ]
     },
     "metadata": {},
     "output_type": "display_data"
    },
    {
     "data": {
      "text/html": [
       "<span style=\"color:#a65628\"><span style=\"font-weight:bold;font-size:11pt;\">(</span><span style=\"font-size:11pt;\"><span style=\"font-weight:bold;color:#a65628\">is</span><span style=\"color:#7F7F6F;font-size:8pt\">/Mv.|f--3s-/en</span></span> <span style=\"font-size:11pt;\"><span style=\"color:#404040\">playing</span><span style=\"color:#7F7F6F;font-size:8pt\">/Pd.so.|pg----/en</span></span><span style=\"color:#a65628\"><span style=\"font-weight:bold;font-size:11pt;\">)</span></span></span>"
      ],
      "text/plain": [
       "<IPython.core.display.HTML object>"
      ]
     },
     "metadata": {},
     "output_type": "display_data"
    },
    {
     "data": {
      "text/html": [
       "<span style=\"color:#a65628\"><span style=\"font-weight:bold;font-size:11pt;\">(</span><span style=\"font-size:11pt;\"><span style=\"font-weight:bold;color:#a65628\">very</span><span style=\"color:#7F7F6F;font-size:8pt\">/M/en</span></span> <span style=\"font-size:11pt;\"><span style=\"color:#404040\">old</span><span style=\"color:#7F7F6F;font-size:8pt\">/Ma/en</span></span><span style=\"color:#a65628\"><span style=\"font-weight:bold;font-size:11pt;\">)</span></span></span>"
      ],
      "text/plain": [
       "<IPython.core.display.HTML object>"
      ]
     },
     "metadata": {},
     "output_type": "display_data"
    },
    {
     "data": {
      "text/html": [
       "<span style=\"font-size:11pt;\"><span style=\"color:#000\">a</span><span style=\"color:#7F7F6F;font-size:8pt\">/Md/en</span></span>"
      ],
      "text/plain": [
       "<IPython.core.display.HTML object>"
      ]
     },
     "metadata": {},
     "output_type": "display_data"
    },
    {
     "data": {
      "text/html": [
       "<span style=\"font-size:11pt;\"><span style=\"color:#000\">is</span><span style=\"color:#7F7F6F;font-size:8pt\">/Mv.|f--3s-/en</span></span>"
      ],
      "text/plain": [
       "<IPython.core.display.HTML object>"
      ]
     },
     "metadata": {},
     "output_type": "display_data"
    },
    {
     "data": {
      "text/html": [
       "<span style=\"font-size:11pt;\"><span style=\"color:#000\">mary</span><span style=\"color:#7F7F6F;font-size:8pt\">/Cp.s/en</span></span>"
      ],
      "text/plain": [
       "<IPython.core.display.HTML object>"
      ]
     },
     "metadata": {},
     "output_type": "display_data"
    },
    {
     "data": {
      "text/html": [
       "<span style=\"font-size:11pt;\"><span style=\"color:#000\">old</span><span style=\"color:#7F7F6F;font-size:8pt\">/Ma/en</span></span>"
      ],
      "text/plain": [
       "<IPython.core.display.HTML object>"
      ]
     },
     "metadata": {},
     "output_type": "display_data"
    },
    {
     "data": {
      "text/html": [
       "<span style=\"font-size:11pt;\"><span style=\"color:#000\">playing</span><span style=\"color:#7F7F6F;font-size:8pt\">/Pd.so.|pg----/en</span></span>"
      ],
      "text/plain": [
       "<IPython.core.display.HTML object>"
      ]
     },
     "metadata": {},
     "output_type": "display_data"
    },
    {
     "data": {
      "text/html": [
       "<span style=\"font-size:11pt;\"><span style=\"color:#000\">very</span><span style=\"color:#7F7F6F;font-size:8pt\">/M/en</span></span>"
      ],
      "text/plain": [
       "<IPython.core.display.HTML object>"
      ]
     },
     "metadata": {},
     "output_type": "display_data"
    },
    {
     "data": {
      "text/html": [
       "<span style=\"font-size:11pt;\"><span style=\"color:#000\">violin</span><span style=\"color:#7F7F6F;font-size:8pt\">/Cc.s/en</span></span>"
      ],
      "text/plain": [
       "<IPython.core.display.HTML object>"
      ]
     },
     "metadata": {},
     "output_type": "display_data"
    }
   ],
   "source": [
    "for edge in hg.all():\n",
    "    show(edge, style='oneline', roots_only=False)"
   ]
  },
  {
   "cell_type": "markdown",
   "metadata": {},
   "source": [
    "## Search with patterns"
   ]
  },
  {
   "cell_type": "code",
   "execution_count": 6,
   "metadata": {
    "ExecuteTime": {
     "end_time": "2020-05-28T09:02:16.390580Z",
     "start_time": "2020-05-28T09:02:16.356169Z"
    }
   },
   "outputs": [
    {
     "data": {
      "text/html": [
       "<span style=\"color:#a65628\"><span style=\"font-weight:bold;font-size:11pt;\">(</span><span style=\"color:#377eb8\"><span style=\"font-weight:bold;font-size:11pt;\">(</span><span style=\"font-size:11pt;\"><span style=\"font-weight:bold;color:#377eb8\">is</span><span style=\"color:#7F7F6F;font-size:8pt\">/Mv.|f--3s-/en</span></span> <span style=\"font-size:11pt;\"><span style=\"font-weight:bold;color:#404040\">playing</span><span style=\"color:#7F7F6F;font-size:8pt\">/Pd.so.|pg----/en</span></span><span style=\"color:#377eb8\"><span style=\"font-weight:bold;font-size:11pt;\">)</span></span></span> <span style=\"font-size:11pt;\"><span style=\"color:#404040\">mary</span><span style=\"color:#7F7F6F;font-size:8pt\">/Cp.s/en</span></span> <span style=\"color:#377eb8\"><span style=\"font-weight:bold;font-size:11pt;\">(</span><span style=\"font-size:11pt;\"><span style=\"font-weight:bold;color:#377eb8\">a</span><span style=\"color:#7F7F6F;font-size:8pt\">/Md/en</span></span> <span style=\"color:#4daf4a\"><span style=\"font-weight:bold;font-size:11pt;\">(</span><span style=\"color:#984ea3\"><span style=\"font-weight:bold;font-size:11pt;\">(</span><span style=\"font-size:11pt;\"><span style=\"font-weight:bold;color:#984ea3\">very</span><span style=\"color:#7F7F6F;font-size:8pt\">/M/en</span></span> <span style=\"font-size:11pt;\"><span style=\"font-weight:bold;color:#404040\">old</span><span style=\"color:#7F7F6F;font-size:8pt\">/Ma/en</span></span><span style=\"color:#984ea3\"><span style=\"font-weight:bold;font-size:11pt;\">)</span></span></span> <span style=\"font-size:11pt;\"><span style=\"color:#404040\">violin</span><span style=\"color:#7F7F6F;font-size:8pt\">/Cc.s/en</span></span><span style=\"color:#4daf4a\"><span style=\"font-weight:bold;font-size:11pt;\">)</span></span><span style=\"color:#377eb8\"><span style=\"font-weight:bold;font-size:11pt;\">)</span></span><span style=\"color:#a65628\"><span style=\"font-weight:bold;font-size:11pt;\">)</span></span></span></span></span>"
      ],
      "text/plain": [
       "<IPython.core.display.HTML object>"
      ]
     },
     "metadata": {},
     "output_type": "display_data"
    }
   ],
   "source": [
    "def search_and_show(pattern):\n",
    "    for edge in hg.search(pattern):\n",
    "        show(edge, style='oneline', roots_only=False)\n",
    "\n",
    "# '...' at the end indicates that the edge may have an arbitrary number of extra entities\n",
    "search_and_show('((is/Mv.|f--3s-/en playing/Pd.so.|pg----/en) ...)')"
   ]
  },
  {
   "cell_type": "code",
   "execution_count": 7,
   "metadata": {
    "ExecuteTime": {
     "end_time": "2020-05-28T09:02:16.497124Z",
     "start_time": "2020-05-28T09:02:16.408164Z"
    }
   },
   "outputs": [
    {
     "name": "stdout",
     "output_type": "stream",
     "text": [
      "example #1:\n"
     ]
    },
    {
     "data": {
      "text/html": [
       "<span style=\"color:#a65628\"><span style=\"font-weight:bold;font-size:11pt;\">(</span><span style=\"color:#377eb8\"><span style=\"font-weight:bold;font-size:11pt;\">(</span><span style=\"font-size:11pt;\"><span style=\"font-weight:bold;color:#377eb8\">is</span><span style=\"color:#7F7F6F;font-size:8pt\">/Mv.|f--3s-/en</span></span> <span style=\"font-size:11pt;\"><span style=\"font-weight:bold;color:#404040\">playing</span><span style=\"color:#7F7F6F;font-size:8pt\">/Pd.so.|pg----/en</span></span><span style=\"color:#377eb8\"><span style=\"font-weight:bold;font-size:11pt;\">)</span></span></span> <span style=\"font-size:11pt;\"><span style=\"color:#404040\">mary</span><span style=\"color:#7F7F6F;font-size:8pt\">/Cp.s/en</span></span> <span style=\"color:#377eb8\"><span style=\"font-weight:bold;font-size:11pt;\">(</span><span style=\"font-size:11pt;\"><span style=\"font-weight:bold;color:#377eb8\">a</span><span style=\"color:#7F7F6F;font-size:8pt\">/Md/en</span></span> <span style=\"color:#4daf4a\"><span style=\"font-weight:bold;font-size:11pt;\">(</span><span style=\"color:#984ea3\"><span style=\"font-weight:bold;font-size:11pt;\">(</span><span style=\"font-size:11pt;\"><span style=\"font-weight:bold;color:#984ea3\">very</span><span style=\"color:#7F7F6F;font-size:8pt\">/M/en</span></span> <span style=\"font-size:11pt;\"><span style=\"font-weight:bold;color:#404040\">old</span><span style=\"color:#7F7F6F;font-size:8pt\">/Ma/en</span></span><span style=\"color:#984ea3\"><span style=\"font-weight:bold;font-size:11pt;\">)</span></span></span> <span style=\"font-size:11pt;\"><span style=\"color:#404040\">violin</span><span style=\"color:#7F7F6F;font-size:8pt\">/Cc.s/en</span></span><span style=\"color:#4daf4a\"><span style=\"font-weight:bold;font-size:11pt;\">)</span></span><span style=\"color:#377eb8\"><span style=\"font-weight:bold;font-size:11pt;\">)</span></span><span style=\"color:#a65628\"><span style=\"font-weight:bold;font-size:11pt;\">)</span></span></span></span></span>"
      ],
      "text/plain": [
       "<IPython.core.display.HTML object>"
      ]
     },
     "metadata": {},
     "output_type": "display_data"
    },
    {
     "name": "stdout",
     "output_type": "stream",
     "text": [
      "example #2:\n"
     ]
    },
    {
     "data": {
      "text/html": [
       "<span style=\"color:#a65628\"><span style=\"font-weight:bold;font-size:11pt;\">(</span><span style=\"color:#377eb8\"><span style=\"font-weight:bold;font-size:11pt;\">(</span><span style=\"font-size:11pt;\"><span style=\"font-weight:bold;color:#377eb8\">is</span><span style=\"color:#7F7F6F;font-size:8pt\">/Mv.|f--3s-/en</span></span> <span style=\"font-size:11pt;\"><span style=\"font-weight:bold;color:#404040\">playing</span><span style=\"color:#7F7F6F;font-size:8pt\">/Pd.so.|pg----/en</span></span><span style=\"color:#377eb8\"><span style=\"font-weight:bold;font-size:11pt;\">)</span></span></span> <span style=\"font-size:11pt;\"><span style=\"color:#404040\">mary</span><span style=\"color:#7F7F6F;font-size:8pt\">/Cp.s/en</span></span> <span style=\"color:#377eb8\"><span style=\"font-weight:bold;font-size:11pt;\">(</span><span style=\"font-size:11pt;\"><span style=\"font-weight:bold;color:#377eb8\">a</span><span style=\"color:#7F7F6F;font-size:8pt\">/Md/en</span></span> <span style=\"color:#4daf4a\"><span style=\"font-weight:bold;font-size:11pt;\">(</span><span style=\"color:#984ea3\"><span style=\"font-weight:bold;font-size:11pt;\">(</span><span style=\"font-size:11pt;\"><span style=\"font-weight:bold;color:#984ea3\">very</span><span style=\"color:#7F7F6F;font-size:8pt\">/M/en</span></span> <span style=\"font-size:11pt;\"><span style=\"font-weight:bold;color:#404040\">old</span><span style=\"color:#7F7F6F;font-size:8pt\">/Ma/en</span></span><span style=\"color:#984ea3\"><span style=\"font-weight:bold;font-size:11pt;\">)</span></span></span> <span style=\"font-size:11pt;\"><span style=\"color:#404040\">violin</span><span style=\"color:#7F7F6F;font-size:8pt\">/Cc.s/en</span></span><span style=\"color:#4daf4a\"><span style=\"font-weight:bold;font-size:11pt;\">)</span></span><span style=\"color:#377eb8\"><span style=\"font-weight:bold;font-size:11pt;\">)</span></span><span style=\"color:#a65628\"><span style=\"font-weight:bold;font-size:11pt;\">)</span></span></span></span></span>"
      ],
      "text/plain": [
       "<IPython.core.display.HTML object>"
      ]
     },
     "metadata": {},
     "output_type": "display_data"
    },
    {
     "name": "stdout",
     "output_type": "stream",
     "text": [
      "example #3:\n"
     ]
    },
    {
     "data": {
      "text/html": [
       "<span style=\"color:#a65628\"><span style=\"font-weight:bold;font-size:11pt;\">(</span><span style=\"color:#377eb8\"><span style=\"font-weight:bold;font-size:11pt;\">(</span><span style=\"font-size:11pt;\"><span style=\"font-weight:bold;color:#377eb8\">is</span><span style=\"color:#7F7F6F;font-size:8pt\">/Mv.|f--3s-/en</span></span> <span style=\"font-size:11pt;\"><span style=\"font-weight:bold;color:#404040\">playing</span><span style=\"color:#7F7F6F;font-size:8pt\">/Pd.so.|pg----/en</span></span><span style=\"color:#377eb8\"><span style=\"font-weight:bold;font-size:11pt;\">)</span></span></span> <span style=\"font-size:11pt;\"><span style=\"color:#404040\">mary</span><span style=\"color:#7F7F6F;font-size:8pt\">/Cp.s/en</span></span> <span style=\"color:#377eb8\"><span style=\"font-weight:bold;font-size:11pt;\">(</span><span style=\"font-size:11pt;\"><span style=\"font-weight:bold;color:#377eb8\">a</span><span style=\"color:#7F7F6F;font-size:8pt\">/Md/en</span></span> <span style=\"color:#4daf4a\"><span style=\"font-weight:bold;font-size:11pt;\">(</span><span style=\"color:#984ea3\"><span style=\"font-weight:bold;font-size:11pt;\">(</span><span style=\"font-size:11pt;\"><span style=\"font-weight:bold;color:#984ea3\">very</span><span style=\"color:#7F7F6F;font-size:8pt\">/M/en</span></span> <span style=\"font-size:11pt;\"><span style=\"font-weight:bold;color:#404040\">old</span><span style=\"color:#7F7F6F;font-size:8pt\">/Ma/en</span></span><span style=\"color:#984ea3\"><span style=\"font-weight:bold;font-size:11pt;\">)</span></span></span> <span style=\"font-size:11pt;\"><span style=\"color:#404040\">violin</span><span style=\"color:#7F7F6F;font-size:8pt\">/Cc.s/en</span></span><span style=\"color:#4daf4a\"><span style=\"font-weight:bold;font-size:11pt;\">)</span></span><span style=\"color:#377eb8\"><span style=\"font-weight:bold;font-size:11pt;\">)</span></span><span style=\"color:#a65628\"><span style=\"font-weight:bold;font-size:11pt;\">)</span></span></span></span></span>"
      ],
      "text/plain": [
       "<IPython.core.display.HTML object>"
      ]
     },
     "metadata": {},
     "output_type": "display_data"
    },
    {
     "name": "stdout",
     "output_type": "stream",
     "text": [
      "example #4:\n"
     ]
    },
    {
     "data": {
      "text/html": [
       "<span style=\"color:#a65628\"><span style=\"font-weight:bold;font-size:11pt;\">(</span><span style=\"color:#377eb8\"><span style=\"font-weight:bold;font-size:11pt;\">(</span><span style=\"font-size:11pt;\"><span style=\"font-weight:bold;color:#377eb8\">is</span><span style=\"color:#7F7F6F;font-size:8pt\">/Mv.|f--3s-/en</span></span> <span style=\"font-size:11pt;\"><span style=\"font-weight:bold;color:#404040\">playing</span><span style=\"color:#7F7F6F;font-size:8pt\">/Pd.so.|pg----/en</span></span><span style=\"color:#377eb8\"><span style=\"font-weight:bold;font-size:11pt;\">)</span></span></span> <span style=\"font-size:11pt;\"><span style=\"color:#404040\">mary</span><span style=\"color:#7F7F6F;font-size:8pt\">/Cp.s/en</span></span> <span style=\"color:#377eb8\"><span style=\"font-weight:bold;font-size:11pt;\">(</span><span style=\"font-size:11pt;\"><span style=\"font-weight:bold;color:#377eb8\">a</span><span style=\"color:#7F7F6F;font-size:8pt\">/Md/en</span></span> <span style=\"color:#4daf4a\"><span style=\"font-weight:bold;font-size:11pt;\">(</span><span style=\"color:#984ea3\"><span style=\"font-weight:bold;font-size:11pt;\">(</span><span style=\"font-size:11pt;\"><span style=\"font-weight:bold;color:#984ea3\">very</span><span style=\"color:#7F7F6F;font-size:8pt\">/M/en</span></span> <span style=\"font-size:11pt;\"><span style=\"font-weight:bold;color:#404040\">old</span><span style=\"color:#7F7F6F;font-size:8pt\">/Ma/en</span></span><span style=\"color:#984ea3\"><span style=\"font-weight:bold;font-size:11pt;\">)</span></span></span> <span style=\"font-size:11pt;\"><span style=\"color:#404040\">violin</span><span style=\"color:#7F7F6F;font-size:8pt\">/Cc.s/en</span></span><span style=\"color:#4daf4a\"><span style=\"font-weight:bold;font-size:11pt;\">)</span></span><span style=\"color:#377eb8\"><span style=\"font-weight:bold;font-size:11pt;\">)</span></span><span style=\"color:#a65628\"><span style=\"font-weight:bold;font-size:11pt;\">)</span></span></span></span></span>"
      ],
      "text/plain": [
       "<IPython.core.display.HTML object>"
      ]
     },
     "metadata": {},
     "output_type": "display_data"
    }
   ],
   "source": [
    "# * matches any entity (atom or hyperedge)\n",
    "print('example #1:')\n",
    "search_and_show('((is/Mv.|f--3s-/en playing/Pd.so.|pg----/en) * *)')\n",
    "\n",
    "# @ matches any atom\n",
    "# & mathes any hyperedge\n",
    "print('example #2:')\n",
    "search_and_show('((is/Mv.|f--3s-/en playing/Pd.so.|pg----/en) @ &)')\n",
    "\n",
    "# any combination of wildcards and entities is possibleabs\n",
    "print('example #3:')\n",
    "search_and_show('(* mary/Cp.s/en *)')\n",
    "\n",
    "print('example #4:')\n",
    "search_and_show('(& @ (a/Md/en ((very/M/en old/Ma/en) violin/Cc.s/en)))')"
   ]
  },
  {
   "cell_type": "code",
   "execution_count": null,
   "metadata": {},
   "outputs": [],
   "source": []
  }
 ],
 "metadata": {
  "kernelspec": {
   "display_name": "Python 3",
   "language": "python",
   "name": "python3"
  },
  "language_info": {
   "codemirror_mode": {
    "name": "ipython",
    "version": 3
   },
   "file_extension": ".py",
   "mimetype": "text/x-python",
   "name": "python",
   "nbconvert_exporter": "python",
   "pygments_lexer": "ipython3",
   "version": "3.8.3"
  }
 },
 "nbformat": 4,
 "nbformat_minor": 2
}
